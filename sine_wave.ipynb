{
 "cells": [
  {
   "cell_type": "code",
   "execution_count": null,
   "metadata": {
    "colab": {
     "base_uri": "https://localhost:8080/",
     "height": 34
    },
    "colab_type": "code",
    "id": "IDnlpLBD50Ba",
    "outputId": "64c43234-182f-4714-b697-f4c2e61c3a1b"
   },
   "outputs": [],
   "source": [
    "import tensorflow as tf\n",
    "import pandas as pd\n",
    "import numpy as np\n",
    "import scipy as sp\n",
    "import matplotlib.pyplot as plt\n"
   ]
  },
  {
   "cell_type": "code",
   "execution_count": null,
   "metadata": {
    "colab": {
     "base_uri": "https://localhost:8080/",
     "height": 282
    },
    "colab_type": "code",
    "id": "SupFL0Tt0gq0",
    "outputId": "c8cc6003-2bbb-487c-ec01-6ef82c62b0ef"
   },
   "outputs": [],
   "source": [
    "mi = 0\n",
    "ma = 100\n",
    "data_points = np.linspace(mi, ma, 1460)\n",
    "dataset_un = np.sin(data_points)\n",
    "plt.plot(dataset_un)"
   ]
  },
  {
   "cell_type": "code",
   "execution_count": null,
   "metadata": {
    "colab": {
     "base_uri": "https://localhost:8080/",
     "height": 282
    },
    "colab_type": "code",
    "id": "XXeuVhPY1QwP",
    "outputId": "19c3038f-8104-4b7f-ccaf-ce51bfb79c2e"
   },
   "outputs": [],
   "source": [
    "from sklearn.preprocessing import MinMaxScaler\n",
    "\n",
    "dataset_un = dataset.reshape(-1,1)\n",
    "scaler = MinMaxScaler(feature_range=(0,1))\n",
    "dataset = scaler.fit_transform(dataset_un)"
   ]
  },
  {
   "cell_type": "code",
   "execution_count": null,
   "metadata": {
    "colab": {
     "base_uri": "https://localhost:8080/",
     "height": 50
    },
    "colab_type": "code",
    "id": "Dy2XTuL26dTw",
    "outputId": "3f7902bd-c3ee-4cdb-e3bf-ae5f545e9556"
   },
   "outputs": [],
   "source": [
    "n_steps=10\n",
    "n_outputs=1\n",
    "\n",
    "dataX, dataY = [], []\n",
    "for i in range(10, 1200):\n",
    "  x = dataset[i-10: i]\n",
    "  y = dataset[i]\n",
    "  dataX.append(x)\n",
    "  dataY.append(y)\n",
    "dataX, dataY =  np.array(dataX), np.array(dataY)\n",
    "dataX = np.reshape(dataX, (dataX.shape[0], dataX.shape[1], 1))\n",
    "print(dataX.shape)\n",
    "print(dataY.shape)"
   ]
  },
  {
   "cell_type": "code",
   "execution_count": null,
   "metadata": {
    "colab": {
     "base_uri": "https://localhost:8080/",
     "height": 1000
    },
    "colab_type": "code",
    "id": "VbF-K-XN6-1x",
    "outputId": "0e15dba4-d4ad-45a6-e8d5-2b6b08d5f733"
   },
   "outputs": [],
   "source": [
    "model = tf.keras.models.Sequential()\n",
    "model.add(tf.keras.layers.LSTM(1, activation='tanh', input_shape= (dataX.shape[1], 1)))\n",
    "model.add(tf.keras.layers.Dense(1))\n",
    "model.compile(optimizer='adam', loss='mse') \n",
    "\n",
    "model.fit(dataX, dataY, epochs=200,verbose=2)"
   ]
  },
  {
   "cell_type": "code",
   "execution_count": null,
   "metadata": {
    "colab": {},
    "colab_type": "code",
    "id": "hyIh8the7QLv"
   },
   "outputs": [],
   "source": [
    "testX, testY = [], []\n",
    "\n",
    "for i in range(1200, 1460):\n",
    "  x = dataset[i-10: i]\n",
    "  y = dataset[i]\n",
    "  testX.append(x)\n",
    "  testY.append(y)\n",
    "testX, testY =  np.array(testX), np.array(testY)\n",
    "testX = np.reshape(testX, (testX.shape[0], testX.shape[1], 1))\n"
   ]
  },
  {
   "cell_type": "code",
   "execution_count": null,
   "metadata": {
    "colab": {
     "base_uri": "https://localhost:8080/",
     "height": 34
    },
    "colab_type": "code",
    "id": "ne3aCbiIip-1",
    "outputId": "6af727e8-d3a8-4a82-926a-697cd888fb00"
   },
   "outputs": [],
   "source": [
    "pred = model.predict(testX, batch_size=16, verbose=2)\n",
    "pred = scaler.inverse_transform(pred)"
   ]
  },
  {
   "cell_type": "code",
   "execution_count": null,
   "metadata": {
    "colab": {
     "base_uri": "https://localhost:8080/",
     "height": 282
    },
    "colab_type": "code",
    "id": "kGCCdEWsjC3N",
    "outputId": "2c01b381-d25f-48ca-f4ca-96719f330d3d"
   },
   "outputs": [],
   "source": [
    "final = dataset[:1200]\n",
    "final = list(final)\n",
    "for i in pred:\n",
    "  final.append(i)\n",
    "\n",
    "plt.plot(final)"
   ]
  }
 ],
 "metadata": {
  "colab": {
   "collapsed_sections": [],
   "name": "colab1.ipynb",
   "provenance": []
  },
  "kernelspec": {
   "display_name": "Python 3",
   "language": "python",
   "name": "python3"
  },
  "language_info": {
   "codemirror_mode": {
    "name": "ipython",
    "version": 3
   },
   "file_extension": ".py",
   "mimetype": "text/x-python",
   "name": "python",
   "nbconvert_exporter": "python",
   "pygments_lexer": "ipython3",
   "version": "3.7.4"
  }
 },
 "nbformat": 4,
 "nbformat_minor": 1
}
