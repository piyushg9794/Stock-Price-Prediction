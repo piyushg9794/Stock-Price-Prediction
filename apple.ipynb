{
 "cells": [
  {
   "cell_type": "code",
   "execution_count": null,
   "metadata": {},
   "outputs": [],
   "source": [
    "# Importing libraries\n",
    "\n",
    "import tensorflow as tf\n",
    "import pandas as pd\n",
    "import numpy as np\n",
    "import scipy as sp\n",
    "import matplotlib.pyplot as plt"
   ]
  },
  {
   "cell_type": "code",
   "execution_count": null,
   "metadata": {},
   "outputs": [],
   "source": [
    "# Loading dataset\n",
    "\n",
    "df = pd.read_csv('AAPL.csv')\n",
    "df = df.dropna()\n",
    "\n",
    "training_set_unscaled = df.iloc[:-260, 4:5].values\n",
    "test_set_unscaled = df.iloc[-260:, 4:5].values\n",
    "\n",
    "print(training_set.shape)\n",
    "print(test_set.shape)"
   ]
  },
  {
   "cell_type": "code",
   "execution_count": null,
   "metadata": {},
   "outputs": [],
   "source": [
    "# Scaling data\n",
    "\n",
    "from sklearn.preprocessing import MinMaxScaler\n",
    "sc = MinMaxScaler(feature_range = (0, 1))\n",
    "training_set = sc.fit_transform(training_set_unscaled)\n",
    "test_set = sc.transform(test_set_unscaled)"
   ]
  },
  {
   "cell_type": "code",
   "execution_count": null,
   "metadata": {},
   "outputs": [],
   "source": [
    "# Visualization function\n",
    "\n",
    "import plotly.graph_objects as go\n",
    "\n",
    "def final_plot(prediction, df):\n",
    "   \n",
    "    fig = go.Figure()\n",
    "    fig.add_trace(go.Scatter(x=df['Date'], y=df.iloc[:, 4:5]['Close'], mode='lines', name='original'))\n",
    "    fig.add_trace(go.Scatter(x=df.iloc[-200:]['Date'], y=prediction, mode='lines', name='predicted'))\n",
    "    fig.show()"
   ]
  },
  {
   "cell_type": "code",
   "execution_count": null,
   "metadata": {},
   "outputs": [],
   "source": [
    "# Model \n",
    "window_size = 60\n",
    "\n",
    "m = tf.keras.models.Sequential([\n",
    "    tf.keras.layers.LSTM(50, return_sequences = True, input_shape= (window_size, 1)),\n",
    "    tf.keras.layers.Dropout(0.2),\n",
    "    tf.keras.layers.LSTM(50, return_sequences = True),\n",
    "    tf.keras.layers.Dropout(0.2),\n",
    "    tf.keras.layers.LSTM(50, return_sequences = True),\n",
    "    tf.keras.layers.Dropout(0.2),\n",
    "    tf.keras.layers.LSTM(50),\n",
    "    tf.keras.layers.Dropout(0.2),\n",
    "    tf.keras.layers.Dense(1),\n",
    "])\n",
    "\n",
    "m.compile(optimizer='adam', loss='mean_squared_error')\n",
    "m.summary()"
   ]
  },
  {
   "cell_type": "code",
   "execution_count": null,
   "metadata": {},
   "outputs": [],
   "source": [
    "# Training method - 1 (conventional method of training)\n",
    "\n",
    "X_train = []\n",
    "y_train = []\n",
    "for i in range(window_size, training_set.shape[0]):\n",
    "    X_train.append(training_set[i-window_size:i, 0])\n",
    "    y_train.append(training_set[i, 0])\n",
    "X_train, y_train = np.array(X_train), np.array(y_train)\n",
    "X_train = np.reshape(X_train, (X_train.shape[0], X_train.shape[1], 1))\n",
    "\n",
    "X_test = []\n",
    "y_test = []\n",
    "for i in range(window_size, 260):\n",
    "    X_test.append(test_set[i-window_size:i, 0])\n",
    "    y_test.append(test_set[i, 0])\n",
    "X_test, y_test = np.array(X_test), np.array(y_test)\n",
    "X_test = np.reshape(X_test, (X_test.shape[0], X_test.shape[1], 1))\n",
    "\n",
    "m.fit(X_train, y_train, epochs=100, batch_size=32)"
   ]
  },
  {
   "cell_type": "code",
   "execution_count": null,
   "metadata": {},
   "outputs": [],
   "source": [
    "# Prediction using m-1\n",
    "\n",
    "pred = m.predict(X_test)\n",
    "pred = sc.inverse_transform(pred)\n",
    "pred = pred.flatten()\n",
    "final_plot(pred, df)"
   ]
  },
  {
   "cell_type": "code",
   "execution_count": null,
   "metadata": {},
   "outputs": [],
   "source": [
    "# Training method - 2 ( using tf.data.Dataset (recommended way) )\n",
    "\n",
    "def make_window_dataset(df, window_size, shift, stride=1):\n",
    "    \n",
    "  window_size+=1\n",
    "  ds = tf.data.Dataset.from_tensor_slices(df)\n",
    "  ds = ds.window(window_size, shift=shift, stride=stride)\n",
    "  \n",
    "  def make_timestep(sub):\n",
    "    return sub.batch(window_size, drop_remainder=True)\n",
    "\n",
    "  def make_label(sub):\n",
    "    return sub[:-1], sub[-1]\n",
    "\n",
    "  ds = ds.flat_map(make_timestep) \n",
    "  win = ds.map(make_label).batch(32)\n",
    "\n",
    "  return win\n",
    "\n",
    "window_size = 60\n",
    "train = make_window_dataset(training_set, window_size, 1)\n",
    "test = make_window_dataset(test_set, window_size, 1)\n",
    "\n",
    "m.fit(train, epochs=100)"
   ]
  },
  {
   "cell_type": "code",
   "execution_count": null,
   "metadata": {},
   "outputs": [],
   "source": [
    "# Predction using m-2\n",
    "\n",
    "pred2 = m.predict(X_test)\n",
    "pred2 = sc.inverse_transform(pred2)\n",
    "pred2 = pred2.flatten()\n",
    "final_plot(pred2, df)"
   ]
  },
  {
   "cell_type": "code",
   "execution_count": null,
   "metadata": {},
   "outputs": [],
   "source": []
  }
 ],
 "metadata": {
  "kernelspec": {
   "display_name": "Python 3",
   "language": "python",
   "name": "python3"
  },
  "language_info": {
   "codemirror_mode": {
    "name": "ipython",
    "version": 3
   },
   "file_extension": ".py",
   "mimetype": "text/x-python",
   "name": "python",
   "nbconvert_exporter": "python",
   "pygments_lexer": "ipython3",
   "version": "3.7.4"
  }
 },
 "nbformat": 4,
 "nbformat_minor": 2
}
